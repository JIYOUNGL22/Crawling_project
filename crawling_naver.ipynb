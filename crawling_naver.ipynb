{
 "cells": [
  {
   "cell_type": "code",
   "execution_count": 1,
   "id": "7584d7f0",
   "metadata": {},
   "outputs": [],
   "source": [
    "import requests\n",
    "import pandas as pd\n",
    "from bs4 import BeautifulSoup"
   ]
  },
  {
   "cell_type": "code",
   "execution_count": 2,
   "id": "confidential-florist",
   "metadata": {},
   "outputs": [],
   "source": [
    "# 1. 사이트 분석 : URL\n",
    "# 네이버 금융 모바일 페이지에서 애플 검색 후 뉴스 페이지 진입"
   ]
  },
  {
   "cell_type": "code",
   "execution_count": 3,
   "id": "incorrect-briefing",
   "metadata": {},
   "outputs": [
    {
     "name": "stdout",
     "output_type": "stream",
     "text": [
      "https://api.stock.naver.com/news/stock/AAPL.O?searchMethod=title_entity_id.basic&pageSize=20&page=1\n"
     ]
    }
   ],
   "source": [
    "pagesize, page = 20, 1\n",
    "url = \"https://api.stock.naver.com/news/stock/AAPL.O?searchMethod=title_entity_id.basic&pageSize={}&page={}\".format(pagesize, page)\n",
    "print(url)"
   ]
  },
  {
   "cell_type": "code",
   "execution_count": 4,
   "id": "turkish-library",
   "metadata": {},
   "outputs": [],
   "source": [
    "# 2. request(url) -> response : json(str)"
   ]
  },
  {
   "cell_type": "code",
   "execution_count": 5,
   "id": "packed-stockholm",
   "metadata": {},
   "outputs": [
    {
     "data": {
      "text/plain": [
       "<Response [200]>"
      ]
     },
     "execution_count": 5,
     "metadata": {},
     "output_type": "execute_result"
    }
   ],
   "source": [
    "response = requests.get(url)\n",
    "response"
   ]
  },
  {
   "cell_type": "code",
   "execution_count": 23,
   "id": "3f562f20",
   "metadata": {},
   "outputs": [
    {
     "data": {
      "text/plain": [
       "'0180004940218'"
      ]
     },
     "execution_count": 23,
     "metadata": {},
     "output_type": "execute_result"
    }
   ],
   "source": [
    "response.json()[0]['items'][0]['id']"
   ]
  },
  {
   "cell_type": "code",
   "execution_count": 6,
   "id": "obvious-wayne",
   "metadata": {},
   "outputs": [
    {
     "data": {
      "text/plain": [
       "'[{\"total\":1,\"items\":[{\"id\":\"0180004940218\",\"officeId\":\"018\",\"articleId\":\"0004940218\",\"officeName\":\"이데일리\",\"datetime\":\"202105271240\",\"type\":1,\"title\":\"&quot;대체 결제 인력 모집합니다&quot;…애플도 암호화폐에 뛰어 들까\",\"titleF'"
      ]
     },
     "execution_count": 6,
     "metadata": {},
     "output_type": "execute_result"
    }
   ],
   "source": [
    "response.text[:200]"
   ]
  },
  {
   "cell_type": "code",
   "execution_count": 7,
   "id": "exterior-symposium",
   "metadata": {},
   "outputs": [],
   "source": [
    "# 3. parsing : json(str) -> dict"
   ]
  },
  {
   "cell_type": "code",
   "execution_count": 8,
   "id": "e6381e1a",
   "metadata": {},
   "outputs": [],
   "source": [
    "apple_news = []\n",
    "\n",
    "for i in range(0,20):\n",
    "    titleFull = response.json()[i]['items'][0]['titleFull']\n",
    "    body = response.json()[i]['items'][0]['body']\n",
    "    datetime = response.json()[i]['items'][0]['datetime']\n",
    "    officeName = response.json()[i]['items'][0]['officeName']\n",
    "    \n",
    "    apple_news.append({\"titleFull\":titleFull, \"body\":body, \"officeName\":officeName, \"datetime\":datetime})"
   ]
  },
  {
   "cell_type": "code",
   "execution_count": 9,
   "id": "graduate-cambodia",
   "metadata": {},
   "outputs": [],
   "source": [
    "# 4. list(dict) -> Pandas Dataframe"
   ]
  },
  {
   "cell_type": "code",
   "execution_count": 10,
   "id": "optimum-joseph",
   "metadata": {},
   "outputs": [
    {
     "data": {
      "text/html": [
       "<div>\n",
       "<style scoped>\n",
       "    .dataframe tbody tr th:only-of-type {\n",
       "        vertical-align: middle;\n",
       "    }\n",
       "\n",
       "    .dataframe tbody tr th {\n",
       "        vertical-align: top;\n",
       "    }\n",
       "\n",
       "    .dataframe thead th {\n",
       "        text-align: right;\n",
       "    }\n",
       "</style>\n",
       "<table border=\"1\" class=\"dataframe\">\n",
       "  <thead>\n",
       "    <tr style=\"text-align: right;\">\n",
       "      <th></th>\n",
       "      <th>title</th>\n",
       "      <th>body</th>\n",
       "      <th>officeName</th>\n",
       "      <th>datetime</th>\n",
       "    </tr>\n",
       "  </thead>\n",
       "  <tbody>\n",
       "    <tr>\n",
       "      <th>0</th>\n",
       "      <td>\"대체 결제 인력 모집합니다\"…애플도 암호화폐에 뛰어 들까</td>\n",
       "      <td>세계 최대 정보기술(IT)업체인 애플이 암호화폐에 대한 관심을 높이고 있는 것으로 ...</td>\n",
       "      <td>이데일리</td>\n",
       "      <td>202105271240</td>\n",
       "    </tr>\n",
       "    <tr>\n",
       "      <th>1</th>\n",
       "      <td>애플 이어 테슬라도 눈치.. 中당국에 고객정보 넘긴다</td>\n",
       "      <td>애플에 이어 테슬라도 중국 시장에서 획득한 데이터를 중국 정부에 넘기려는 움직임을 ...</td>\n",
       "      <td>파이낸셜뉴스</td>\n",
       "      <td>202105261811</td>\n",
       "    </tr>\n",
       "    <tr>\n",
       "      <th>2</th>\n",
       "      <td>빌게이츠 재단, 애플 아마존 트위터 팔고 쿠팡 주식 샀다</td>\n",
       "      <td>세계 최대의 자선재단인 빌&amp;amp;멀린다 게이츠 재단이 애플, 아마존, 트위터 등의...</td>\n",
       "      <td>매일경제</td>\n",
       "      <td>202105261210</td>\n",
       "    </tr>\n",
       "    <tr>\n",
       "      <th>3</th>\n",
       "      <td>\"아이폰으로 충분해?\" 애플 공개저격 나선 삼성</td>\n",
       "      <td>갤S21-아이폰12 카메라 비교 영상 삼성전자가 공개적으로 애플 아이폰의 카메라 성...</td>\n",
       "      <td>매일경제</td>\n",
       "      <td>202105251621</td>\n",
       "    </tr>\n",
       "    <tr>\n",
       "      <th>4</th>\n",
       "      <td>삼성전자, 글로벌 지표 잇따라 1위…벨기에선 애플 제쳐</td>\n",
       "      <td>삼성전자가 구글·애플을 제치고 벨기에 소비자들이 선정한 올해 '최고의 전자제품' 브...</td>\n",
       "      <td>한국경제</td>\n",
       "      <td>202105250747</td>\n",
       "    </tr>\n",
       "    <tr>\n",
       "      <th>5</th>\n",
       "      <td>\"페이팔·애플·디즈니…트랜스포머株 사라\"</td>\n",
       "      <td>“미래 예측에 집착하기보단 여러 대외 변수 속에서도 유연하게 변화할 수 있는 ‘트랜...</td>\n",
       "      <td>한국경제</td>\n",
       "      <td>202105231754</td>\n",
       "    </tr>\n",
       "    <tr>\n",
       "      <th>6</th>\n",
       "      <td>법정에 선 팀 쿡 애플 CEO \"앱스토어 폐쇄적 운영, 돈을 위한게 아니다\"</td>\n",
       "      <td>팀 쿡 애플 최고경영자(CEO)가 21일(현지시간) 법정에서 폐쇄적인 앱스토어 운영...</td>\n",
       "      <td>서울경제</td>\n",
       "      <td>202105221153</td>\n",
       "    </tr>\n",
       "    <tr>\n",
       "      <th>7</th>\n",
       "      <td>[주목!e해외주식]가전제품계의 ‘애플’... 새 도전 나서는 日 발뮤다</td>\n",
       "      <td>‘프리미엄 소형 가전’의 대명사로 통하는 일본 발뮤다(Balmuda, 6612.JP...</td>\n",
       "      <td>이데일리</td>\n",
       "      <td>202105221004</td>\n",
       "    </tr>\n",
       "    <tr>\n",
       "      <th>8</th>\n",
       "      <td>애플 자사주 매입은 주가 조작이다?</td>\n",
       "      <td>[[선임기자가 판다/삼성물산 합병 재판 7대 쟁점 분석] (4)제일모직 자사주 매입...</td>\n",
       "      <td>머니투데이</td>\n",
       "      <td>202105212036</td>\n",
       "    </tr>\n",
       "    <tr>\n",
       "      <th>9</th>\n",
       "      <td>구글도 애플처럼…오프라인매장 연다</td>\n",
       "      <td>뉴욕 맨해튼에 첫 소매점 IT기기 판매·서비스 제공 구글이 자사 정보기술(IT) 제...</td>\n",
       "      <td>매일경제</td>\n",
       "      <td>202105211708</td>\n",
       "    </tr>\n",
       "    <tr>\n",
       "      <th>10</th>\n",
       "      <td>삼성전자 美소비자만족지수협회 평가 1위…애플 제쳐</td>\n",
       "      <td>삼성전자가 최근 미국에서 진행된 스마트폰 부문 고객만족도 조사에서 애플을 제치고 1...</td>\n",
       "      <td>머니투데이</td>\n",
       "      <td>202105201509</td>\n",
       "    </tr>\n",
       "    <tr>\n",
       "      <th>11</th>\n",
       "      <td>애플 닮으려는 삼성의 영토전략 엿보였지만…</td>\n",
       "      <td>스마트한 전자제품이 넘쳐나는 시대입니다. 이미 수많은 전자기기를 사용하며 살고 있지...</td>\n",
       "      <td>비즈니스워치</td>\n",
       "      <td>202105200658</td>\n",
       "    </tr>\n",
       "    <tr>\n",
       "      <th>12</th>\n",
       "      <td>애플에 맞선 삼성-구글 동맹···OS 통합으로 시너지 박차</td>\n",
       "      <td>삼성전자(005930)가 구글과 웨어러블 운영체제(OS)를 통합해 ‘갤럭시 생태계’...</td>\n",
       "      <td>서울경제</td>\n",
       "      <td>202105200611</td>\n",
       "    </tr>\n",
       "    <tr>\n",
       "      <th>13</th>\n",
       "      <td>\"애플 잡아라\"···삼성, 구글과 '웨어러블 동맹'</td>\n",
       "      <td>삼성전자(005930)가 구글과 웨어러블 운영체제(OS)를 통합해 ‘갤럭시 생태계’...</td>\n",
       "      <td>서울경제</td>\n",
       "      <td>202105191751</td>\n",
       "    </tr>\n",
       "    <tr>\n",
       "      <th>14</th>\n",
       "      <td>칩 90% 만드는 TSMC 본진 '흔들'...애플이 기우제 지낼판 [글로벌 what]</td>\n",
       "      <td>최근 세계 최대 파운드리(반도체 위탁 생산) 업체 TSMC가 미국과 중국에서 투자를...</td>\n",
       "      <td>서울경제</td>\n",
       "      <td>202105191726</td>\n",
       "    </tr>\n",
       "    <tr>\n",
       "      <th>15</th>\n",
       "      <td>뉴욕증시, 기술주 하락에 '약세'…애플·페이스북·아마존 1%대↓</td>\n",
       "      <td>뉴욕증시는 기술주들의 하락 여파로 약세를 보였다. 18일(현지시간) 뉴욕증권거래소에...</td>\n",
       "      <td>한국경제</td>\n",
       "      <td>202105190820</td>\n",
       "    </tr>\n",
       "    <tr>\n",
       "      <th>16</th>\n",
       "      <td>중국 당국, 애플 中고객 정보 주무른다</td>\n",
       "      <td>애플이 중국 고객들의 데이터를 중국 정부 소유 기업의 서버에 보관하도록 하고 있는 ...</td>\n",
       "      <td>파이낸셜뉴스</td>\n",
       "      <td>202105181802</td>\n",
       "    </tr>\n",
       "    <tr>\n",
       "      <th>17</th>\n",
       "      <td>국민연금, 한국서 15.7조 팔고 아마존 MS 애플 테슬라 더 샀다</td>\n",
       "      <td>국민연금이 지난 1분기에도 미국 주식을 대량 매수한 것으로 나타났다. 한동안 관망했...</td>\n",
       "      <td>매일경제</td>\n",
       "      <td>202105172140</td>\n",
       "    </tr>\n",
       "    <tr>\n",
       "      <th>18</th>\n",
       "      <td>삼성 '사내식당 외부 개방' 적극 조치···공정위, 애플 이어 수용할지 주목</td>\n",
       "      <td>삼성전자는 지난달 ‘삼성 뉴스룸’을 통해 “삼성전자가 사내식당 2곳에 대해 실시한 ...</td>\n",
       "      <td>서울경제</td>\n",
       "      <td>202105171846</td>\n",
       "    </tr>\n",
       "    <tr>\n",
       "      <th>19</th>\n",
       "      <td>[글로벌인사이트] BYD와 테슬라, 그리고 화웨이와 애플</td>\n",
       "      <td>중국의 미래, 중국의 실리콘밸리로 불리는 선전은 아시아 도시 5위의 GDP를 자랑한...</td>\n",
       "      <td>헤럴드경제</td>\n",
       "      <td>202105171139</td>\n",
       "    </tr>\n",
       "  </tbody>\n",
       "</table>\n",
       "</div>"
      ],
      "text/plain": [
       "                                              title  \\\n",
       "0                  \"대체 결제 인력 모집합니다\"…애플도 암호화폐에 뛰어 들까   \n",
       "1                     애플 이어 테슬라도 눈치.. 中당국에 고객정보 넘긴다   \n",
       "2                   빌게이츠 재단, 애플 아마존 트위터 팔고 쿠팡 주식 샀다   \n",
       "3                        \"아이폰으로 충분해?\" 애플 공개저격 나선 삼성   \n",
       "4                    삼성전자, 글로벌 지표 잇따라 1위…벨기에선 애플 제쳐   \n",
       "5                            \"페이팔·애플·디즈니…트랜스포머株 사라\"   \n",
       "6        법정에 선 팀 쿡 애플 CEO \"앱스토어 폐쇄적 운영, 돈을 위한게 아니다\"   \n",
       "7           [주목!e해외주식]가전제품계의 ‘애플’... 새 도전 나서는 日 발뮤다   \n",
       "8                               애플 자사주 매입은 주가 조작이다?   \n",
       "9                                구글도 애플처럼…오프라인매장 연다   \n",
       "10                      삼성전자 美소비자만족지수협회 평가 1위…애플 제쳐   \n",
       "11                          애플 닮으려는 삼성의 영토전략 엿보였지만…   \n",
       "12                 애플에 맞선 삼성-구글 동맹···OS 통합으로 시너지 박차   \n",
       "13                     \"애플 잡아라\"···삼성, 구글과 '웨어러블 동맹'   \n",
       "14  칩 90% 만드는 TSMC 본진 '흔들'...애플이 기우제 지낼판 [글로벌 what]   \n",
       "15              뉴욕증시, 기술주 하락에 '약세'…애플·페이스북·아마존 1%대↓   \n",
       "16                            중국 당국, 애플 中고객 정보 주무른다   \n",
       "17            국민연금, 한국서 15.7조 팔고 아마존 MS 애플 테슬라 더 샀다   \n",
       "18       삼성 '사내식당 외부 개방' 적극 조치···공정위, 애플 이어 수용할지 주목   \n",
       "19                  [글로벌인사이트] BYD와 테슬라, 그리고 화웨이와 애플   \n",
       "\n",
       "                                                 body officeName      datetime  \n",
       "0   세계 최대 정보기술(IT)업체인 애플이 암호화폐에 대한 관심을 높이고 있는 것으로 ...       이데일리  202105271240  \n",
       "1   애플에 이어 테슬라도 중국 시장에서 획득한 데이터를 중국 정부에 넘기려는 움직임을 ...     파이낸셜뉴스  202105261811  \n",
       "2   세계 최대의 자선재단인 빌&amp;멀린다 게이츠 재단이 애플, 아마존, 트위터 등의...       매일경제  202105261210  \n",
       "3   갤S21-아이폰12 카메라 비교 영상 삼성전자가 공개적으로 애플 아이폰의 카메라 성...       매일경제  202105251621  \n",
       "4   삼성전자가 구글·애플을 제치고 벨기에 소비자들이 선정한 올해 '최고의 전자제품' 브...       한국경제  202105250747  \n",
       "5   “미래 예측에 집착하기보단 여러 대외 변수 속에서도 유연하게 변화할 수 있는 ‘트랜...       한국경제  202105231754  \n",
       "6   팀 쿡 애플 최고경영자(CEO)가 21일(현지시간) 법정에서 폐쇄적인 앱스토어 운영...       서울경제  202105221153  \n",
       "7   ‘프리미엄 소형 가전’의 대명사로 통하는 일본 발뮤다(Balmuda, 6612.JP...       이데일리  202105221004  \n",
       "8   [[선임기자가 판다/삼성물산 합병 재판 7대 쟁점 분석] (4)제일모직 자사주 매입...      머니투데이  202105212036  \n",
       "9   뉴욕 맨해튼에 첫 소매점 IT기기 판매·서비스 제공 구글이 자사 정보기술(IT) 제...       매일경제  202105211708  \n",
       "10  삼성전자가 최근 미국에서 진행된 스마트폰 부문 고객만족도 조사에서 애플을 제치고 1...      머니투데이  202105201509  \n",
       "11  스마트한 전자제품이 넘쳐나는 시대입니다. 이미 수많은 전자기기를 사용하며 살고 있지...     비즈니스워치  202105200658  \n",
       "12  삼성전자(005930)가 구글과 웨어러블 운영체제(OS)를 통합해 ‘갤럭시 생태계’...       서울경제  202105200611  \n",
       "13  삼성전자(005930)가 구글과 웨어러블 운영체제(OS)를 통합해 ‘갤럭시 생태계’...       서울경제  202105191751  \n",
       "14  최근 세계 최대 파운드리(반도체 위탁 생산) 업체 TSMC가 미국과 중국에서 투자를...       서울경제  202105191726  \n",
       "15  뉴욕증시는 기술주들의 하락 여파로 약세를 보였다. 18일(현지시간) 뉴욕증권거래소에...       한국경제  202105190820  \n",
       "16  애플이 중국 고객들의 데이터를 중국 정부 소유 기업의 서버에 보관하도록 하고 있는 ...     파이낸셜뉴스  202105181802  \n",
       "17  국민연금이 지난 1분기에도 미국 주식을 대량 매수한 것으로 나타났다. 한동안 관망했...       매일경제  202105172140  \n",
       "18  삼성전자는 지난달 ‘삼성 뉴스룸’을 통해 “삼성전자가 사내식당 2곳에 대해 실시한 ...       서울경제  202105171846  \n",
       "19  중국의 미래, 중국의 실리콘밸리로 불리는 선전은 아시아 도시 5위의 GDP를 자랑한...      헤럴드경제  202105171139  "
      ]
     },
     "execution_count": 10,
     "metadata": {},
     "output_type": "execute_result"
    }
   ],
   "source": [
    "df = pd.DataFrame(apple_news)\n",
    "df.rename(columns={\"titleFull\":\"title\"})"
   ]
  },
  {
   "cell_type": "code",
   "execution_count": null,
   "id": "032ad819",
   "metadata": {},
   "outputs": [],
   "source": []
  }
 ],
 "metadata": {
  "kernelspec": {
   "display_name": "Python 3",
   "language": "python",
   "name": "python3"
  },
  "language_info": {
   "codemirror_mode": {
    "name": "ipython",
    "version": 3
   },
   "file_extension": ".py",
   "mimetype": "text/x-python",
   "name": "python",
   "nbconvert_exporter": "python",
   "pygments_lexer": "ipython3",
   "version": "3.7.10"
  },
  "toc": {
   "base_numbering": 1,
   "nav_menu": {},
   "number_sections": true,
   "sideBar": true,
   "skip_h1_title": false,
   "title_cell": "Table of Contents",
   "title_sidebar": "Contents",
   "toc_cell": false,
   "toc_position": {},
   "toc_section_display": true,
   "toc_window_display": false
  }
 },
 "nbformat": 4,
 "nbformat_minor": 5
}
